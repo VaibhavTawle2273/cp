{
 "cells": [
  {
   "cell_type": "code",
   "execution_count": 1,
   "metadata": {},
   "outputs": [],
   "source": [
    "import  numpy  as np\n",
    "import  pandas  as pd\n",
    "import  matplotlib.pyplot  as plt\n",
    "from  sklearn  import  datasets\n",
    "\n",
    "class  Perceptron :\n",
    "    learning_rate: float \n",
    "    num_iterations: int\n",
    "    weight: np.array\n",
    "    bias: np.array\n",
    "\n",
    "    def  __init__ ( self , learning_rate, num_iterations) -> None :\n",
    "        self .learning_rate = learning_rate\n",
    "        self .num_iterations = num_iterations\n",
    "        self .weight = np.array ([ 0 ])\n",
    "        self.bias = np.array([ 0 ])\n",
    "\n",
    "    def  net_input ( self , x: np.array) -> np.array:\n",
    "        return np.dot( self.weight.T , x) + self.bias\n",
    "    \n",
    "    def  predict ( self , x: np.array) -> np.array:\n",
    "        m = x.shape[ 1 ]\n",
    "        y_pred = np.array\n",
    "        self.weight = np.random.randn(x.shape[ 0 ], 1 )* 0.01 \n",
    "        self.bias = np.zeros(( 1 , 1 ))\n",
    "\n",
    "        for i in  range ( self .num_iterations):\n",
    "            y_pred = self.predict (x)\n",
    "\n",
    "            dw = ( 1 /m)*np.dot(x, (y_pred-y).T)\n",
    "            db = ( 1 /m)*np.sum(y_pred-y)\n",
    "\n",
    "            self .weight -= self .learning_rate*dw\n",
    "            self .bias -= self .learning_rate*db\n",
    "\n",
    "        return y_pred\n",
    "    "
   ]
  },
  {
   "cell_type": "code",
   "execution_count": 2,
   "metadata": {},
   "outputs": [],
   "source": [
    "# get data\n",
    "iris = datasets.load_iris()\n",
    "X = iris.data\n",
    "y = iris.target\n",
    "\n",
    "X = np.delete(X, [ 1 , 3 ], axis= 1 )\n",
    "delete_target = np.where(y == 2 )\n",
    "y = np.delete(y, delete_target)\n",
    "X = np.delete(X, delete_target, axis= 0 )\n",
    "y = np.where(y == 0 , - 1 , 1 )"
   ]
  },
  {
   "cell_type": "code",
   "execution_count": 3,
   "metadata": {},
   "outputs": [
    {
     "ename": "OptionError",
     "evalue": "No such keys(s): ' display.max_rows '",
     "output_type": "error",
     "traceback": [
      "\u001b[1;31m---------------------------------------------------------------------------\u001b[0m",
      "\u001b[1;31mOptionError\u001b[0m                               Traceback (most recent call last)",
      "Cell \u001b[1;32mIn[3], line 1\u001b[0m\n\u001b[1;32m----> 1\u001b[0m \u001b[43mpd\u001b[49m\u001b[38;5;241;43m.\u001b[39;49m\u001b[43mset_option\u001b[49m\u001b[43m(\u001b[49m\u001b[43m \u001b[49m\u001b[38;5;124;43m'\u001b[39;49m\u001b[38;5;124;43m display.max_rows \u001b[39;49m\u001b[38;5;124;43m'\u001b[39;49m\u001b[43m \u001b[49m\u001b[43m,\u001b[49m\u001b[43m \u001b[49m\u001b[38;5;241;43m9\u001b[39;49m\u001b[43m \u001b[49m\u001b[43m)\u001b[49m\n\u001b[0;32m      2\u001b[0m pd\u001b[38;5;241m.\u001b[39mDataFrame({ \u001b[38;5;124m'\u001b[39m\u001b[38;5;124m sepal length (cm) \u001b[39m\u001b[38;5;124m'\u001b[39m : X[:, \u001b[38;5;241m0\u001b[39m ], \u001b[38;5;124m'\u001b[39m\u001b[38;5;124m petal length (cm) \u001b[39m\u001b[38;5;124m'\u001b[39m : X[:, \u001b[38;5;241m1\u001b[39m ], \n\u001b[0;32m      3\u001b[0m                \u001b[38;5;124m'\u001b[39m\u001b[38;5;124m target (1: versicolor, -1: setosa) \u001b[39m\u001b[38;5;124m'\u001b[39m : y },\n\u001b[0;32m      4\u001b[0m               index\u001b[38;5;241m=\u001b[39mnp\u001b[38;5;241m.\u001b[39marrange( \u001b[38;5;241m1\u001b[39m , \u001b[38;5;28mlen\u001b[39m (X)\u001b[38;5;241m+\u001b[39m \u001b[38;5;241m1\u001b[39m ))\n",
      "File \u001b[1;32m~\\AppData\\Local\\Programs\\Python\\Python310\\lib\\site-packages\\pandas\\_config\\config.py:263\u001b[0m, in \u001b[0;36mCallableDynamicDoc.__call__\u001b[1;34m(self, *args, **kwds)\u001b[0m\n\u001b[0;32m    262\u001b[0m \u001b[38;5;28;01mdef\u001b[39;00m \u001b[38;5;21m__call__\u001b[39m(\u001b[38;5;28mself\u001b[39m, \u001b[38;5;241m*\u001b[39margs, \u001b[38;5;241m*\u001b[39m\u001b[38;5;241m*\u001b[39mkwds) \u001b[38;5;241m-\u001b[39m\u001b[38;5;241m>\u001b[39m T:\n\u001b[1;32m--> 263\u001b[0m     \u001b[38;5;28;01mreturn\u001b[39;00m \u001b[38;5;28mself\u001b[39m\u001b[38;5;241m.\u001b[39m\u001b[38;5;18m__func__\u001b[39m(\u001b[38;5;241m*\u001b[39margs, \u001b[38;5;241m*\u001b[39m\u001b[38;5;241m*\u001b[39mkwds)\n",
      "File \u001b[1;32m~\\AppData\\Local\\Programs\\Python\\Python310\\lib\\site-packages\\pandas\\_config\\config.py:156\u001b[0m, in \u001b[0;36m_set_option\u001b[1;34m(*args, **kwargs)\u001b[0m\n\u001b[0;32m    153\u001b[0m     \u001b[38;5;28;01mraise\u001b[39;00m \u001b[38;5;167;01mTypeError\u001b[39;00m(\u001b[38;5;124mf\u001b[39m\u001b[38;5;124m'\u001b[39m\u001b[38;5;124m_set_option() got an unexpected keyword argument \u001b[39m\u001b[38;5;124m\"\u001b[39m\u001b[38;5;132;01m{\u001b[39;00mkwarg\u001b[38;5;132;01m}\u001b[39;00m\u001b[38;5;124m\"\u001b[39m\u001b[38;5;124m'\u001b[39m)\n\u001b[0;32m    155\u001b[0m \u001b[38;5;28;01mfor\u001b[39;00m k, v \u001b[38;5;129;01min\u001b[39;00m \u001b[38;5;28mzip\u001b[39m(args[::\u001b[38;5;241m2\u001b[39m], args[\u001b[38;5;241m1\u001b[39m::\u001b[38;5;241m2\u001b[39m]):\n\u001b[1;32m--> 156\u001b[0m     key \u001b[38;5;241m=\u001b[39m \u001b[43m_get_single_key\u001b[49m\u001b[43m(\u001b[49m\u001b[43mk\u001b[49m\u001b[43m,\u001b[49m\u001b[43m \u001b[49m\u001b[43msilent\u001b[49m\u001b[43m)\u001b[49m\n\u001b[0;32m    158\u001b[0m     o \u001b[38;5;241m=\u001b[39m _get_registered_option(key)\n\u001b[0;32m    159\u001b[0m     \u001b[38;5;28;01mif\u001b[39;00m o \u001b[38;5;129;01mand\u001b[39;00m o\u001b[38;5;241m.\u001b[39mvalidator:\n",
      "File \u001b[1;32m~\\AppData\\Local\\Programs\\Python\\Python310\\lib\\site-packages\\pandas\\_config\\config.py:121\u001b[0m, in \u001b[0;36m_get_single_key\u001b[1;34m(pat, silent)\u001b[0m\n\u001b[0;32m    119\u001b[0m     \u001b[38;5;28;01mif\u001b[39;00m \u001b[38;5;129;01mnot\u001b[39;00m silent:\n\u001b[0;32m    120\u001b[0m         _warn_if_deprecated(pat)\n\u001b[1;32m--> 121\u001b[0m     \u001b[38;5;28;01mraise\u001b[39;00m OptionError(\u001b[38;5;124mf\u001b[39m\u001b[38;5;124m\"\u001b[39m\u001b[38;5;124mNo such keys(s): \u001b[39m\u001b[38;5;132;01m{\u001b[39;00m\u001b[38;5;28mrepr\u001b[39m(pat)\u001b[38;5;132;01m}\u001b[39;00m\u001b[38;5;124m\"\u001b[39m)\n\u001b[0;32m    122\u001b[0m \u001b[38;5;28;01mif\u001b[39;00m \u001b[38;5;28mlen\u001b[39m(keys) \u001b[38;5;241m>\u001b[39m \u001b[38;5;241m1\u001b[39m:\n\u001b[0;32m    123\u001b[0m     \u001b[38;5;28;01mraise\u001b[39;00m OptionError(\u001b[38;5;124m\"\u001b[39m\u001b[38;5;124mPattern matched multiple keys\u001b[39m\u001b[38;5;124m\"\u001b[39m)\n",
      "\u001b[1;31mOptionError\u001b[0m: No such keys(s): ' display.max_rows '"
     ]
    }
   ],
   "source": [
    "pd.set_option('display.max_rows' ,9)\n",
    "pd.DataFrame({'sepal length(cm)' : X[:, 0 ], ' petal length (cm) ' : X[:, 1 ], \n",
    "               ' target (1: versicolor, -1: setosa) ' : y },\n",
    "              index=np.arrange( 1 , len (X)+ 1 ))"
   ]
  },
  {
   "cell_type": "code",
   "execution_count": null,
   "metadata": {},
   "outputs": [],
   "source": [
    "setosa = np.where(y == - 1 )\n",
    "versicolor = np.where(y == 1 )\n",
    "plt. scatter(X[setosa, 0 ], X[setosa, 1 ],\n",
    "            color= ' red ' , marker= ' o ' , label= ' setosa ' )\n",
    "plt. scatter(X[versicolor, 0 ], X[versicolor, 1 ],\n",
    "            color= ' blue ' , marker= ' x ' , label= ' versicolor ' )\n",
    "plt.title( ' Training a perceptron model on the Iris dataset ' )\n",
    "plt.xlabel( ' sepal length (cm) ' )\n",
    "plt.ylabel( ' petal length (cm) ' )\n",
    "plt.legend(loc= ' upper left ')\n",
    "plt.show()"
   ]
  },
  {
   "cell_type": "code",
   "execution_count": null,
   "metadata": {},
   "outputs": [],
   "source": [
    "ppn = Perceptron(learning_rate= 0.3 , num_iterations= 10 )\n",
    "y_pred = ppn.fit(XT, y)\n",
    "\n",
    "x_ax = np.arrange(X[:, 0 ].min()- 1 , X[:, 0 ].max()+ 1 , 0.01 )\n",
    "w1 = ppn.weight[ 0 ]\n",
    "w2 = ppn.weight[ 1 ]\n",
    "b = ppn.bias[ 0 ]\n",
    "plt.plot(x_ax, -w1*x_ax/w2 - b/w2, color= ' black ' )\n",
    "\n",
    "setosa = np.where(y == - 1 )\n",
    "versicolor = np.where(y == 1 )\n",
    "plt. scatter(X[setosa, 0 ], X[setosa, 1 ],\n",
    "            color= ' red ' , marker= ' o ' , label= ' setosa ' )\n",
    "plt. scatter(X[versicolor, 0 ], X[versicolor, 1 ],\n",
    "            color= ' blue ' , marker= ' x ' , label= ' versicolor ' )\n",
    "plt.title( ' Training a perceptron model on the Iris dataset ' )\n",
    "plt.xlabel( ' sepal length (cm) ' )\n",
    "plt.ylabel( ' petal length (cm) ' )\n",
    "plt.legend(loc= ' upper left ' )\n",
    "plt.show()\n",
    "\n",
    "print( ' Accuracy: ' + str (np.mean(y_pred == y) * 100 ) + ' % ' )"
   ]
  },
  {
   "cell_type": "code",
   "execution_count": null,
   "metadata": {},
   "outputs": [],
   "source": []
  }
 ],
 "metadata": {
  "kernelspec": {
   "display_name": "Python 3 (ipykernel)",
   "language": "python",
   "name": "python3"
  },
  "language_info": {
   "codemirror_mode": {
    "name": "ipython",
    "version": 3
   },
   "file_extension": ".py",
   "mimetype": "text/x-python",
   "name": "python",
   "nbconvert_exporter": "python",
   "pygments_lexer": "ipython3",
   "version": "3.10.7"
  }
 },
 "nbformat": 4,
 "nbformat_minor": 2
}
